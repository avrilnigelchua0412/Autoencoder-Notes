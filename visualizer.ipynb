{
 "cells": [
  {
   "cell_type": "code",
   "execution_count": 1,
   "id": "7ef7e8e1",
   "metadata": {},
   "outputs": [
    {
     "name": "stderr",
     "output_type": "stream",
     "text": [
      "2025-07-30 16:55:29.285429: I tensorflow/core/util/port.cc:153] oneDNN custom operations are on. You may see slightly different numerical results due to floating-point round-off errors from different computation orders. To turn them off, set the environment variable `TF_ENABLE_ONEDNN_OPTS=0`.\n",
      "2025-07-30 16:55:29.299115: E external/local_xla/xla/stream_executor/cuda/cuda_fft.cc:467] Unable to register cuFFT factory: Attempting to register factory for plugin cuFFT when one has already been registered\n",
      "WARNING: All log messages before absl::InitializeLog() is called are written to STDERR\n",
      "E0000 00:00:1753865729.315899   36671 cuda_dnn.cc:8579] Unable to register cuDNN factory: Attempting to register factory for plugin cuDNN when one has already been registered\n",
      "E0000 00:00:1753865729.320635   36671 cuda_blas.cc:1407] Unable to register cuBLAS factory: Attempting to register factory for plugin cuBLAS when one has already been registered\n",
      "W0000 00:00:1753865729.334314   36671 computation_placer.cc:177] computation placer already registered. Please check linkage and avoid linking the same target more than once.\n",
      "W0000 00:00:1753865729.334334   36671 computation_placer.cc:177] computation placer already registered. Please check linkage and avoid linking the same target more than once.\n",
      "W0000 00:00:1753865729.334335   36671 computation_placer.cc:177] computation placer already registered. Please check linkage and avoid linking the same target more than once.\n",
      "W0000 00:00:1753865729.334336   36671 computation_placer.cc:177] computation placer already registered. Please check linkage and avoid linking the same target more than once.\n",
      "2025-07-30 16:55:29.339047: I tensorflow/core/platform/cpu_feature_guard.cc:210] This TensorFlow binary is optimized to use available CPU instructions in performance-critical operations.\n",
      "To enable the following instructions: AVX2 AVX512F AVX512_VNNI FMA, in other operations, rebuild TensorFlow with the appropriate compiler flags.\n"
     ]
    }
   ],
   "source": [
    "import numpy as np\n",
    "import matplotlib.pyplot as plt\n",
    "from keras.models import load_model\n",
    "from autoencoder import Autoencoder\n",
    "from tensorflow.python.keras.losses import MeanSquaredError\n",
    "from tensorflow.keras.datasets import mnist"
   ]
  },
  {
   "cell_type": "code",
   "execution_count": 2,
   "id": "ea32ea43",
   "metadata": {},
   "outputs": [],
   "source": [
    "def select_images(images, labels, num_images=10):\n",
    "    sample_images_index = np.random.choice(range(len(images)), num_images)\n",
    "    sample_images = images[sample_images_index]\n",
    "    sample_labels = labels[sample_images_index]\n",
    "    return sample_images, sample_labels\n",
    "\n",
    "\n",
    "def plot_reconstructed_images(images, reconstructed_images):\n",
    "    fig = plt.figure(figsize=(15, 3))\n",
    "    num_images = len(images)\n",
    "    for i, (image, reconstructed_image) in enumerate(zip(images, reconstructed_images)):\n",
    "        image = image.squeeze()\n",
    "        ax = fig.add_subplot(2, num_images, i + 1)\n",
    "        ax.axis(\"off\")\n",
    "        ax.imshow(image, cmap=\"gray_r\")\n",
    "        reconstructed_image = reconstructed_image.squeeze()\n",
    "        ax = fig.add_subplot(2, num_images, i + num_images + 1)\n",
    "        ax.axis(\"off\")\n",
    "        ax.imshow(reconstructed_image, cmap=\"gray_r\")\n",
    "    plt.show()\n",
    "\n",
    "\n",
    "def plot_images_encoded_in_latent_space(latent_representations, sample_labels):\n",
    "    plt.figure(figsize=(10, 10))\n",
    "    plt.scatter(latent_representations[:, 0],\n",
    "                latent_representations[:, 1],\n",
    "                cmap=\"rainbow\",\n",
    "                c=sample_labels,\n",
    "                alpha=0.5,\n",
    "                s=2)\n",
    "    plt.colorbar()\n",
    "    plt.show()"
   ]
  },
  {
   "cell_type": "code",
   "execution_count": 4,
   "id": "58c2db0f",
   "metadata": {},
   "outputs": [],
   "source": [
    "autoencoder = load_model(\"full_autoencoder_model.keras\", custom_objects={\"MeanSquaredError\": MeanSquaredError})\n",
    "encoder = load_model(\"encoder_autoencoder_model.keras\", custom_objects={\"MeanSquaredError\": MeanSquaredError})\n",
    "decoder = load_model(\"decoder_autoencoder_model.keras\", custom_objects={\"MeanSquaredError\": MeanSquaredError})"
   ]
  },
  {
   "cell_type": "code",
   "execution_count": 5,
   "id": "052e1219",
   "metadata": {},
   "outputs": [],
   "source": [
    "(x_train_full, _), (x_test, _) = mnist.load_data()\n",
    "x_all = np.concatenate([x_train_full, x_test], axis=0).astype(\"float32\") / 255.0\n",
    "x_all = x_all[..., np.newaxis]"
   ]
  }
 ],
 "metadata": {
  "kernelspec": {
   "display_name": "tf217",
   "language": "python",
   "name": "python3"
  },
  "language_info": {
   "codemirror_mode": {
    "name": "ipython",
    "version": 3
   },
   "file_extension": ".py",
   "mimetype": "text/x-python",
   "name": "python",
   "nbconvert_exporter": "python",
   "pygments_lexer": "ipython3",
   "version": "3.12.3"
  }
 },
 "nbformat": 4,
 "nbformat_minor": 5
}
